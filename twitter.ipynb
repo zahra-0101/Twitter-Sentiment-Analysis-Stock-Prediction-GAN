{
 "cells": [
  {
   "cell_type": "code",
   "execution_count": 2,
   "metadata": {},
   "outputs": [],
   "source": [
    "import pandas as pd\n",
    "from pathlib import Path\n",
    "import os\n",
    "import random\n",
    "import numpy as np\n",
    "import json\n",
    "from datetime import timedelta\n",
    "from collections import Counter\n",
    "from tqdm.notebook import tqdm\n",
    "from heapq import nlargest\n",
    "\n",
    "import matplotlib.pyplot as plt\n",
    "import seaborn as sns\n",
    "sns.set_theme()\n",
    "\n",
    "import warnings\n",
    "warnings.filterwarnings('ignore')"
   ]
  },
  {
   "cell_type": "code",
   "execution_count": 3,
   "metadata": {},
   "outputs": [],
   "source": [
    "from pathlib import Path\n",
    "DATA_PATH = Path('')\n",
    "TRAIN_PATH = DATA_PATH/'train.jsonl'\n",
    "TEST_PATH = DATA_PATH/'test.jsonl'\n",
    "SAMPLE_SUB_PATH = Path('sample_submission.csv')"
   ]
  },
  {
   "cell_type": "code",
   "execution_count": 4,
   "metadata": {},
   "outputs": [
    {
     "name": "stdout",
     "output_type": "stream",
     "text": [
      "We have 12,899,779 lines in the training data\n"
     ]
    }
   ],
   "source": [
    "\n",
    "with open(TRAIN_PATH, 'r') as f:\n",
    "    print(f\"We have {len(f.readlines()):,} lines in the training data\")"
   ]
  },
  {
   "cell_type": "code",
   "execution_count": 5,
   "metadata": {},
   "outputs": [],
   "source": [
    "# Load in a sample to a pandas df\n",
    "\n",
    "sample_size = 150000\n",
    "\n",
    "chunks = pd.read_json(TRAIN_PATH, lines=True, chunksize = sample_size)\n",
    "\n",
    "for c in chunks:\n",
    "    sample_train_df = c\n",
    "    break"
   ]
  },
  {
   "cell_type": "code",
   "execution_count": 6,
   "metadata": {},
   "outputs": [
    {
     "data": {
      "text/html": [
       "<div>\n",
       "<style scoped>\n",
       "    .dataframe tbody tr th:only-of-type {\n",
       "        vertical-align: middle;\n",
       "    }\n",
       "\n",
       "    .dataframe tbody tr th {\n",
       "        vertical-align: top;\n",
       "    }\n",
       "\n",
       "    .dataframe thead th {\n",
       "        text-align: right;\n",
       "    }\n",
       "</style>\n",
       "<table border=\"1\" class=\"dataframe\">\n",
       "  <thead>\n",
       "    <tr style=\"text-align: right;\">\n",
       "      <th></th>\n",
       "      <th>events</th>\n",
       "    </tr>\n",
       "    <tr>\n",
       "      <th>session</th>\n",
       "      <th></th>\n",
       "    </tr>\n",
       "  </thead>\n",
       "  <tbody>\n",
       "    <tr>\n",
       "      <th>0</th>\n",
       "      <td>[{'aid': 1517085, 'ts': 1659304800025, 'type':...</td>\n",
       "    </tr>\n",
       "    <tr>\n",
       "      <th>1</th>\n",
       "      <td>[{'aid': 424964, 'ts': 1659304800025, 'type': ...</td>\n",
       "    </tr>\n",
       "    <tr>\n",
       "      <th>2</th>\n",
       "      <td>[{'aid': 763743, 'ts': 1659304800038, 'type': ...</td>\n",
       "    </tr>\n",
       "    <tr>\n",
       "      <th>3</th>\n",
       "      <td>[{'aid': 1425967, 'ts': 1659304800095, 'type':...</td>\n",
       "    </tr>\n",
       "    <tr>\n",
       "      <th>4</th>\n",
       "      <td>[{'aid': 613619, 'ts': 1659304800119, 'type': ...</td>\n",
       "    </tr>\n",
       "  </tbody>\n",
       "</table>\n",
       "</div>"
      ],
      "text/plain": [
       "                                                    events\n",
       "session                                                   \n",
       "0        [{'aid': 1517085, 'ts': 1659304800025, 'type':...\n",
       "1        [{'aid': 424964, 'ts': 1659304800025, 'type': ...\n",
       "2        [{'aid': 763743, 'ts': 1659304800038, 'type': ...\n",
       "3        [{'aid': 1425967, 'ts': 1659304800095, 'type':...\n",
       "4        [{'aid': 613619, 'ts': 1659304800119, 'type': ..."
      ]
     },
     "execution_count": 6,
     "metadata": {},
     "output_type": "execute_result"
    }
   ],
   "source": [
    "sample_train_df.set_index('session', drop=True, inplace=True)\n",
    "sample_train_df.head()"
   ]
  },
  {
   "cell_type": "code",
   "execution_count": 6,
   "metadata": {},
   "outputs": [
    {
     "ename": "ValueError",
     "evalue": "can only convert an array of size 1 to a Python scalar",
     "output_type": "error",
     "traceback": [
      "\u001b[1;31m---------------------------------------------------------------------------\u001b[0m",
      "\u001b[1;31mValueError\u001b[0m                                Traceback (most recent call last)",
      "Cell \u001b[1;32mIn[6], line 2\u001b[0m\n\u001b[0;32m      1\u001b[0m \u001b[39m# Sample the first session in the df\u001b[39;00m\n\u001b[1;32m----> 2\u001b[0m example_session \u001b[39m=\u001b[39m sample_train_df\u001b[39m.\u001b[39;49miloc[\u001b[39m0\u001b[39;49m]\u001b[39m.\u001b[39;49mitem()\n\u001b[0;32m      3\u001b[0m \u001b[39mprint\u001b[39m(\u001b[39mf\u001b[39m\u001b[39m'\u001b[39m\u001b[39mThis session was \u001b[39m\u001b[39m{\u001b[39;00m\u001b[39mlen\u001b[39m(example_session)\u001b[39m}\u001b[39;00m\u001b[39m actions long \u001b[39m\u001b[39m\\n\u001b[39;00m\u001b[39m'\u001b[39m)\n\u001b[0;32m      4\u001b[0m \u001b[39mprint\u001b[39m(\u001b[39mf\u001b[39m\u001b[39m'\u001b[39m\u001b[39mThe first action in the session: \u001b[39m\u001b[39m\\n\u001b[39;00m\u001b[39m \u001b[39m\u001b[39m{\u001b[39;00mexample_session[\u001b[39m0\u001b[39m]\u001b[39m}\u001b[39;00m\u001b[39m \u001b[39m\u001b[39m\\n\u001b[39;00m\u001b[39m'\u001b[39m)\n",
      "File \u001b[1;32mD:\\repositories\\recomendation\\lib\\site-packages\\pandas\\core\\base.py:347\u001b[0m, in \u001b[0;36mIndexOpsMixin.item\u001b[1;34m(self)\u001b[0m\n\u001b[0;32m    345\u001b[0m \u001b[39mif\u001b[39;00m \u001b[39mlen\u001b[39m(\u001b[39mself\u001b[39m) \u001b[39m==\u001b[39m \u001b[39m1\u001b[39m:\n\u001b[0;32m    346\u001b[0m     \u001b[39mreturn\u001b[39;00m \u001b[39mnext\u001b[39m(\u001b[39miter\u001b[39m(\u001b[39mself\u001b[39m))\n\u001b[1;32m--> 347\u001b[0m \u001b[39mraise\u001b[39;00m \u001b[39mValueError\u001b[39;00m(\u001b[39m\"\u001b[39m\u001b[39mcan only convert an array of size 1 to a Python scalar\u001b[39m\u001b[39m\"\u001b[39m)\n",
      "\u001b[1;31mValueError\u001b[0m: can only convert an array of size 1 to a Python scalar"
     ]
    }
   ],
   "source": [
    "\n",
    "# Sample the first session in the df\n",
    "example_session = sample_train_df.iloc[0].item()\n",
    "print(f'This session was {len(example_session)} actions long \\n')\n",
    "print(f'The first action in the session: \\n {example_session[0]} \\n')\n",
    "\n",
    "# Time of session\n",
    "time_elapsed = example_session[-1][\"ts\"] - example_session[0][\"ts\"]\n",
    "# The timestamp is in milliseconds since 00:00:00 UTC on 1 January 1970\n",
    "print(f'The first session elapsed: {str(timedelta(milliseconds=time_elapsed))} \\n')\n",
    "\n",
    "# Count the frequency of actions within the session\n",
    "action_counts = {}\n",
    "for action in example_session:\n",
    "    action_counts[action['type']] = action_counts.get(action['type'], 0) + 1  \n",
    "print(f'The first session contains the following frequency of actions: {action_counts}')"
   ]
  },
  {
   "cell_type": "code",
   "execution_count": 11,
   "metadata": {},
   "outputs": [
    {
     "ename": "ImportError",
     "evalue": "IProgress not found. Please update jupyter and ipywidgets. See https://ipywidgets.readthedocs.io/en/stable/user_install.html",
     "output_type": "error",
     "traceback": [
      "\u001b[1;31m---------------------------------------------------------------------------\u001b[0m",
      "\u001b[1;31mImportError\u001b[0m                               Traceback (most recent call last)",
      "Cell \u001b[1;32mIn[11], line 6\u001b[0m\n\u001b[0;32m      3\u001b[0m overall_action_counts \u001b[39m=\u001b[39m {}\n\u001b[0;32m      4\u001b[0m overall_article_id_counts \u001b[39m=\u001b[39m {}\n\u001b[1;32m----> 6\u001b[0m \u001b[39mfor\u001b[39;00m i, row \u001b[39min\u001b[39;00m tqdm(sample_train_df\u001b[39m.\u001b[39;49miterrows(), total\u001b[39m=\u001b[39;49m\u001b[39mlen\u001b[39;49m(sample_train_df)):\n\u001b[0;32m      8\u001b[0m     actions \u001b[39m=\u001b[39m row[\u001b[39m'\u001b[39m\u001b[39mevents\u001b[39m\u001b[39m'\u001b[39m]\n\u001b[0;32m     10\u001b[0m     \u001b[39m# Get the frequency of actions and article_ids\u001b[39;00m\n",
      "File \u001b[1;32mD:\\repositories\\recomendation\\lib\\site-packages\\tqdm\\notebook.py:243\u001b[0m, in \u001b[0;36mtqdm_notebook.__init__\u001b[1;34m(self, *args, **kwargs)\u001b[0m\n\u001b[0;32m    241\u001b[0m unit_scale \u001b[39m=\u001b[39m \u001b[39m1\u001b[39m \u001b[39mif\u001b[39;00m \u001b[39mself\u001b[39m\u001b[39m.\u001b[39munit_scale \u001b[39mis\u001b[39;00m \u001b[39mTrue\u001b[39;00m \u001b[39melse\u001b[39;00m \u001b[39mself\u001b[39m\u001b[39m.\u001b[39munit_scale \u001b[39mor\u001b[39;00m \u001b[39m1\u001b[39m\n\u001b[0;32m    242\u001b[0m total \u001b[39m=\u001b[39m \u001b[39mself\u001b[39m\u001b[39m.\u001b[39mtotal \u001b[39m*\u001b[39m unit_scale \u001b[39mif\u001b[39;00m \u001b[39mself\u001b[39m\u001b[39m.\u001b[39mtotal \u001b[39melse\u001b[39;00m \u001b[39mself\u001b[39m\u001b[39m.\u001b[39mtotal\n\u001b[1;32m--> 243\u001b[0m \u001b[39mself\u001b[39m\u001b[39m.\u001b[39mcontainer \u001b[39m=\u001b[39m \u001b[39mself\u001b[39;49m\u001b[39m.\u001b[39;49mstatus_printer(\u001b[39mself\u001b[39;49m\u001b[39m.\u001b[39;49mfp, total, \u001b[39mself\u001b[39;49m\u001b[39m.\u001b[39;49mdesc, \u001b[39mself\u001b[39;49m\u001b[39m.\u001b[39;49mncols)\n\u001b[0;32m    244\u001b[0m \u001b[39mself\u001b[39m\u001b[39m.\u001b[39mcontainer\u001b[39m.\u001b[39mpbar \u001b[39m=\u001b[39m proxy(\u001b[39mself\u001b[39m)\n\u001b[0;32m    245\u001b[0m \u001b[39mself\u001b[39m\u001b[39m.\u001b[39mdisplayed \u001b[39m=\u001b[39m \u001b[39mFalse\u001b[39;00m\n",
      "File \u001b[1;32mD:\\repositories\\recomendation\\lib\\site-packages\\tqdm\\notebook.py:118\u001b[0m, in \u001b[0;36mtqdm_notebook.status_printer\u001b[1;34m(_, total, desc, ncols)\u001b[0m\n\u001b[0;32m    109\u001b[0m \u001b[39m# Fallback to text bar if there's no total\u001b[39;00m\n\u001b[0;32m    110\u001b[0m \u001b[39m# DEPRECATED: replaced with an 'info' style bar\u001b[39;00m\n\u001b[0;32m    111\u001b[0m \u001b[39m# if not total:\u001b[39;00m\n\u001b[1;32m   (...)\u001b[0m\n\u001b[0;32m    115\u001b[0m \n\u001b[0;32m    116\u001b[0m \u001b[39m# Prepare IPython progress bar\u001b[39;00m\n\u001b[0;32m    117\u001b[0m \u001b[39mif\u001b[39;00m IProgress \u001b[39mis\u001b[39;00m \u001b[39mNone\u001b[39;00m:  \u001b[39m# #187 #451 #558 #872\u001b[39;00m\n\u001b[1;32m--> 118\u001b[0m     \u001b[39mraise\u001b[39;00m \u001b[39mImportError\u001b[39;00m(WARN_NOIPYW)\n\u001b[0;32m    119\u001b[0m \u001b[39mif\u001b[39;00m total:\n\u001b[0;32m    120\u001b[0m     pbar \u001b[39m=\u001b[39m IProgress(\u001b[39mmin\u001b[39m\u001b[39m=\u001b[39m\u001b[39m0\u001b[39m, \u001b[39mmax\u001b[39m\u001b[39m=\u001b[39mtotal)\n",
      "\u001b[1;31mImportError\u001b[0m: IProgress not found. Please update jupyter and ipywidgets. See https://ipywidgets.readthedocs.io/en/stable/user_install.html"
     ]
    }
   ],
   "source": [
    "# from ipywidgets import IntProgress\n",
    "action_counts_list, article_id_counts_list, session_length_time_list, session_length_action_list = ([] for i in range(4))\n",
    "overall_action_counts = {}\n",
    "overall_article_id_counts = {}\n",
    "\n",
    "for i, row in tqdm(sample_train_df.iterrows(), total=len(sample_train_df)):\n",
    "    \n",
    "    actions = row['events']\n",
    "    \n",
    "    # Get the frequency of actions and article_ids\n",
    "    action_counts = {}\n",
    "    article_id_counts = {}\n",
    "    for action in actions:\n",
    "        action_counts[action['type']] = action_counts.get(action['type'], 0) + 1\n",
    "        article_id_counts[action['aid']] = article_id_counts.get(action['aid'], 0) + 1\n",
    "        overall_action_counts[action['type']] = overall_action_counts.get(action['type'], 0) + 1\n",
    "        overall_article_id_counts[action['aid']] = overall_article_id_counts.get(action['aid'], 0) + 1\n",
    "\t       \n",
    "    # Get the length of the session\n",
    "    session_length_time = actions[-1]['ts'] - actions[0]['ts']\n",
    "    \n",
    "    # Add to list\n",
    "    action_counts_list.append(action_counts)\n",
    "    article_id_counts_list.append(article_id_counts)\n",
    "    session_length_time_list.append(session_length_time)\n",
    "    session_length_action_list.append(len(actions))\n",
    "    \n",
    "sample_train_df['action_counts'] = action_counts_list\n",
    "sample_train_df['article_id_counts'] = article_id_counts_list\n",
    "sample_train_df['session_length_unix'] = session_length_time_list\n",
    "sample_train_df['session_length_hours'] = sample_train_df['session_length_unix']*2.77778e-7  # Convert to hours\n",
    "sample_train_df['session_length_action'] = session_length_action_list"
   ]
  },
  {
   "cell_type": "code",
   "execution_count": null,
   "metadata": {},
   "outputs": [],
   "source": [
    "\n",
    "total_actions = sum(overall_action_counts.values())\n",
    "\n",
    "plt.figure(figsize=(8,6))\n",
    "sns.barplot(x=list(overall_action_counts.keys()), y=[i/total_actions for i in overall_action_counts.values()]);\n",
    "plt.title(f'Action frequency', fontsize=12)\n",
    "plt.ylabel('Count', fontsize=12)\n",
    "plt.xlabel('Category', fontsize=12)\n",
    "plt.show()"
   ]
  }
 ],
 "metadata": {
  "kernelspec": {
   "display_name": "myproject",
   "language": "python",
   "name": "myproject"
  },
  "language_info": {
   "codemirror_mode": {
    "name": "ipython",
    "version": 3
   },
   "file_extension": ".py",
   "mimetype": "text/x-python",
   "name": "python",
   "nbconvert_exporter": "python",
   "pygments_lexer": "ipython3",
   "version": "3.10.7"
  },
  "orig_nbformat": 4
 },
 "nbformat": 4,
 "nbformat_minor": 2
}
