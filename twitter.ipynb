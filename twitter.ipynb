{
 "cells": [
  {
   "cell_type": "code",
   "execution_count": 1,
   "metadata": {},
   "outputs": [],
   "source": [
    "import pandas as pd\n",
    "from pathlib import Path\n",
    "import os\n",
    "import random\n",
    "import numpy as np\n",
    "import json\n",
    "from datetime import timedelta\n",
    "from collections import Counter\n",
    "from tqdm.notebook import tqdm\n",
    "from heapq import nlargest\n",
    "\n",
    "import matplotlib.pyplot as plt\n",
    "import seaborn as sns\n",
    "sns.set_theme()\n",
    "\n",
    "import warnings\n",
    "warnings.filterwarnings('ignore')"
   ]
  },
  {
   "cell_type": "code",
   "execution_count": 18,
   "metadata": {},
   "outputs": [],
   "source": [
    "from pathlib import Path\n",
    "DATA_PATH = Path('')\n",
    "TRAIN_PATH = DATA_PATH/'train.jsonl'\n",
    "TEST_PATH = DATA_PATH/'test.jsonl'\n",
    "SAMPLE_SUB_PATH = Path('sample_submission.csv')"
   ]
  },
  {
   "cell_type": "code",
   "execution_count": 3,
   "metadata": {},
   "outputs": [
    {
     "name": "stdout",
     "output_type": "stream",
     "text": [
      "We have 12,899,779 lines in the training data\n"
     ]
    }
   ],
   "source": [
    "\n",
    "with open(TRAIN_PATH, 'r') as f:\n",
    "    print(f\"We have {len(f.readlines()):,} lines in the training data\")"
   ]
  },
  {
   "cell_type": "code",
   "execution_count": 4,
   "metadata": {},
   "outputs": [],
   "source": [
    "# Load in a sample to a pandas df\n",
    "\n",
    "sample_size = 150000\n",
    "\n",
    "chunks = pd.read_json(TRAIN_PATH, lines=True, chunksize = sample_size)\n",
    "\n",
    "for c in chunks:\n",
    "    sample_train_df = c\n",
    "    break"
   ]
  },
  {
   "cell_type": "code",
   "execution_count": 5,
   "metadata": {},
   "outputs": [
    {
     "data": {
      "text/html": [
       "<div>\n",
       "<style scoped>\n",
       "    .dataframe tbody tr th:only-of-type {\n",
       "        vertical-align: middle;\n",
       "    }\n",
       "\n",
       "    .dataframe tbody tr th {\n",
       "        vertical-align: top;\n",
       "    }\n",
       "\n",
       "    .dataframe thead th {\n",
       "        text-align: right;\n",
       "    }\n",
       "</style>\n",
       "<table border=\"1\" class=\"dataframe\">\n",
       "  <thead>\n",
       "    <tr style=\"text-align: right;\">\n",
       "      <th></th>\n",
       "      <th>events</th>\n",
       "    </tr>\n",
       "    <tr>\n",
       "      <th>session</th>\n",
       "      <th></th>\n",
       "    </tr>\n",
       "  </thead>\n",
       "  <tbody>\n",
       "    <tr>\n",
       "      <th>0</th>\n",
       "      <td>[{'aid': 1517085, 'ts': 1659304800025, 'type':...</td>\n",
       "    </tr>\n",
       "    <tr>\n",
       "      <th>1</th>\n",
       "      <td>[{'aid': 424964, 'ts': 1659304800025, 'type': ...</td>\n",
       "    </tr>\n",
       "    <tr>\n",
       "      <th>2</th>\n",
       "      <td>[{'aid': 763743, 'ts': 1659304800038, 'type': ...</td>\n",
       "    </tr>\n",
       "    <tr>\n",
       "      <th>3</th>\n",
       "      <td>[{'aid': 1425967, 'ts': 1659304800095, 'type':...</td>\n",
       "    </tr>\n",
       "    <tr>\n",
       "      <th>4</th>\n",
       "      <td>[{'aid': 613619, 'ts': 1659304800119, 'type': ...</td>\n",
       "    </tr>\n",
       "  </tbody>\n",
       "</table>\n",
       "</div>"
      ],
      "text/plain": [
       "                                                    events\n",
       "session                                                   \n",
       "0        [{'aid': 1517085, 'ts': 1659304800025, 'type':...\n",
       "1        [{'aid': 424964, 'ts': 1659304800025, 'type': ...\n",
       "2        [{'aid': 763743, 'ts': 1659304800038, 'type': ...\n",
       "3        [{'aid': 1425967, 'ts': 1659304800095, 'type':...\n",
       "4        [{'aid': 613619, 'ts': 1659304800119, 'type': ..."
      ]
     },
     "execution_count": 5,
     "metadata": {},
     "output_type": "execute_result"
    }
   ],
   "source": [
    "sample_train_df.set_index('session', drop=True, inplace=True)\n",
    "sample_train_df.head()"
   ]
  },
  {
   "cell_type": "code",
   "execution_count": 6,
   "metadata": {},
   "outputs": [
    {
     "name": "stdout",
     "output_type": "stream",
     "text": [
      "This session was 276 actions long \n",
      "\n",
      "The first action in the session: \n",
      " {'aid': 1517085, 'ts': 1659304800025, 'type': 'clicks'} \n",
      "\n",
      "The first session elapsed: 27 days, 13:09:43.682000 \n",
      "\n",
      "The first session contains the following frequency of actions: {'clicks': 255, 'carts': 17, 'orders': 4}\n"
     ]
    }
   ],
   "source": [
    "\n",
    "# Sample the first session in the df\n",
    "example_session = sample_train_df.iloc[0].item()\n",
    "print(f'This session was {len(example_session)} actions long \\n')\n",
    "print(f'The first action in the session: \\n {example_session[0]} \\n')\n",
    "\n",
    "# Time of session\n",
    "time_elapsed = example_session[-1][\"ts\"] - example_session[0][\"ts\"]\n",
    "# The timestamp is in milliseconds since 00:00:00 UTC on 1 January 1970\n",
    "print(f'The first session elapsed: {str(timedelta(milliseconds=time_elapsed))} \\n')\n",
    "\n",
    "# Count the frequency of actions within the session\n",
    "action_counts = {}\n",
    "for action in example_session:\n",
    "    action_counts[action['type']] = action_counts.get(action['type'], 0) + 1  \n",
    "print(f'The first session contains the following frequency of actions: {action_counts}')"
   ]
  },
  {
   "cell_type": "code",
   "execution_count": 7,
   "metadata": {},
   "outputs": [
    {
     "data": {
      "application/vnd.jupyter.widget-view+json": {
       "model_id": "9306ef37e82e4d00b6f8cb66ec464a92",
       "version_major": 2,
       "version_minor": 0
      },
      "text/plain": [
       "  0%|          | 0/150000 [00:00<?, ?it/s]"
      ]
     },
     "metadata": {},
     "output_type": "display_data"
    }
   ],
   "source": [
    "# from ipywidgets import IntProgress\n",
    "action_counts_list, article_id_counts_list, session_length_time_list, session_length_action_list = ([] for i in range(4))\n",
    "overall_action_counts = {}\n",
    "overall_article_id_counts = {}\n",
    "\n",
    "for i, row in tqdm(sample_train_df.iterrows(), total=len(sample_train_df)):\n",
    "    \n",
    "    actions = row['events']\n",
    "    \n",
    "    # Get the frequency of actions and article_ids\n",
    "    action_counts = {}\n",
    "    article_id_counts = {}\n",
    "    for action in actions:\n",
    "        action_counts[action['type']] = action_counts.get(action['type'], 0) + 1\n",
    "        article_id_counts[action['aid']] = article_id_counts.get(action['aid'], 0) + 1\n",
    "        overall_action_counts[action['type']] = overall_action_counts.get(action['type'], 0) + 1\n",
    "        overall_article_id_counts[action['aid']] = overall_article_id_counts.get(action['aid'], 0) + 1\n",
    "\t       \n",
    "    # Get the length of the session\n",
    "    session_length_time = actions[-1]['ts'] - actions[0]['ts']\n",
    "    \n",
    "    # Add to list\n",
    "    action_counts_list.append(action_counts)\n",
    "    article_id_counts_list.append(article_id_counts)\n",
    "    session_length_time_list.append(session_length_time)\n",
    "    session_length_action_list.append(len(actions))\n",
    "    \n",
    "sample_train_df['action_counts'] = action_counts_list\n",
    "sample_train_df['article_id_counts'] = article_id_counts_list\n",
    "sample_train_df['session_length_unix'] = session_length_time_list\n",
    "sample_train_df['session_length_hours'] = sample_train_df['session_length_unix']*2.77778e-7  # Convert to hours\n",
    "sample_train_df['session_length_action'] = session_length_action_list"
   ]
  },
  {
   "cell_type": "code",
   "execution_count": 8,
   "metadata": {},
   "outputs": [
    {
     "data": {
      "image/png": "[encoded data removed]",
      "text/plain": [
       "<Figure size 800x600 with 1 Axes>"
      ]
     },
     "metadata": {},
     "output_type": "display_data"
    }
   ],
   "source": [
    "\n",
    "total_actions = sum(overall_action_counts.values())\n",
    "\n",
    "plt.figure(figsize=(8,6))\n",
    "sns.barplot(x=list(overall_action_counts.keys()), y=[i/total_actions for i in overall_action_counts.values()]);\n",
    "plt.title(f'Action frequency', fontsize=12)\n",
    "plt.ylabel('Count', fontsize=12)\n",
    "plt.xlabel('Category', fontsize=12)\n",
    "plt.show()"
   ]
  },
  {
   "cell_type": "code",
   "execution_count": 10,
   "metadata": {},
   "outputs": [
    {
     "data": {
      "image/png": "[encoded data removed]",
      "text/plain": [
       "<Figure size 2400x1000 with 2 Axes>"
      ]
     },
     "metadata": {},
     "output_type": "display_data"
    }
   ],
   "source": [
    "fig, ax = plt.subplots(1,2, figsize=(24, 10))\n",
    "\n",
    "p = sns.distplot(sample_train_df['session_length_action'], color=\"y\", bins= 70, ax=ax[0], kde=False)\n",
    "p.set_xlabel(\"Number of actions\", fontsize = 16)\n",
    "p.set_ylabel(\"Density\", fontsize = 16)\n",
    "p.set_title(\"Distribution of the number of actions taken in each session\", fontsize = 14)\n",
    "p.axvline(sample_train_df['session_length_action'].mean(), color='r', linestyle='--', label=\"Mean\")\n",
    "\n",
    "p = sns.distplot(sample_train_df['session_length_hours'], color=\"b\", bins= 70, ax=ax[1], kde=False)\n",
    "p.set_xlabel(\"Hours\", fontsize = 16)\n",
    "p.set_ylabel(\"Density\", fontsize = 16)\n",
    "p.set_title(\"Length of each session\", fontsize = 16);"
   ]
  },
  {
   "cell_type": "code",
   "execution_count": 11,
   "metadata": {},
   "outputs": [
    {
     "name": "stdout",
     "output_type": "stream",
     "text": [
      "34.8% of the sessions had less than 10 actions\n"
     ]
    }
   ],
   "source": [
    "print(f'{round(len(sample_train_df[sample_train_df[\"session_length_action\"]<10])/len(sample_train_df),3)*100}% of the sessions had less than 10 actions')"
   ]
  },
  {
   "cell_type": "code",
   "execution_count": 12,
   "metadata": {},
   "outputs": [
    {
     "data": {
      "image/png": "[encoded data removed]",
      "text/plain": [
       "<Figure size 800x600 with 1 Axes>"
      ]
     },
     "metadata": {},
     "output_type": "display_data"
    }
   ],
   "source": [
    "article_id_freq = list(overall_article_id_counts.values())\n",
    "cut_off = [i for i in article_id_freq if i<30]\n",
    "\n",
    "plt.figure(figsize=(8,6))\n",
    "sns.distplot(cut_off, bins=30, kde=False);\n",
    "plt.title(f'Article ID frequency', fontsize=12)\n",
    "plt.ylabel('Count', fontsize=12)\n",
    "plt.xlabel('Article', fontsize=12);"
   ]
  },
  {
   "cell_type": "code",
   "execution_count": 13,
   "metadata": {},
   "outputs": [
    {
     "name": "stdout",
     "output_type": "stream",
     "text": [
      "Frequency of most common articles: [3877, 4259, 4323, 4503, 5000] \n",
      "\n",
      "IDs for those common articles: [29735, 1603001, 832192, 1733943, 108125]\n"
     ]
    }
   ],
   "source": [
    "### Look at the most interacted with articles ###\n",
    "print(f'Frequency of most common articles: {sorted(list(overall_article_id_counts.values()))[-5:]} \\n')\n",
    "res = nlargest(5, overall_article_id_counts, key = overall_article_id_counts.get)\n",
    "print(f'IDs for those common articles: {res}')"
   ]
  },
  {
   "cell_type": "code",
   "execution_count": 14,
   "metadata": {},
   "outputs": [
    {
     "name": "stdout",
     "output_type": "stream",
     "text": [
      "We have 1,671,803 lines in the test data\n"
     ]
    }
   ],
   "source": [
    "with open(TEST_PATH, 'r') as f:\n",
    "    print(f\"We have {len(f.readlines()):,} lines in the test data\")"
   ]
  },
  {
   "cell_type": "code",
   "execution_count": 15,
   "metadata": {},
   "outputs": [],
   "source": [
    "\n",
    "sample_size = 150\n",
    "\n",
    "chunks = pd.read_json(TEST_PATH, lines=True, chunksize = sample_size)\n",
    "\n",
    "for c in chunks:\n",
    "    sample_test_df = c\n",
    "    break"
   ]
  },
  {
   "cell_type": "code",
   "execution_count": 16,
   "metadata": {},
   "outputs": [
    {
     "data": {
      "text/html": [
       "<div>\n",
       "<style scoped>\n",
       "    .dataframe tbody tr th:only-of-type {\n",
       "        vertical-align: middle;\n",
       "    }\n",
       "\n",
       "    .dataframe tbody tr th {\n",
       "        vertical-align: top;\n",
       "    }\n",
       "\n",
       "    .dataframe thead th {\n",
       "        text-align: right;\n",
       "    }\n",
       "</style>\n",
       "<table border=\"1\" class=\"dataframe\">\n",
       "  <thead>\n",
       "    <tr style=\"text-align: right;\">\n",
       "      <th></th>\n",
       "      <th>session</th>\n",
       "      <th>events</th>\n",
       "    </tr>\n",
       "  </thead>\n",
       "  <tbody>\n",
       "    <tr>\n",
       "      <th>0</th>\n",
       "      <td>12899779</td>\n",
       "      <td>[{'aid': 59625, 'ts': 1661724000278, 'type': '...</td>\n",
       "    </tr>\n",
       "    <tr>\n",
       "      <th>1</th>\n",
       "      <td>12899780</td>\n",
       "      <td>[{'aid': 1142000, 'ts': 1661724000378, 'type':...</td>\n",
       "    </tr>\n",
       "    <tr>\n",
       "      <th>2</th>\n",
       "      <td>12899781</td>\n",
       "      <td>[{'aid': 141736, 'ts': 1661724000559, 'type': ...</td>\n",
       "    </tr>\n",
       "    <tr>\n",
       "      <th>3</th>\n",
       "      <td>12899782</td>\n",
       "      <td>[{'aid': 1669402, 'ts': 1661724000568, 'type':...</td>\n",
       "    </tr>\n",
       "    <tr>\n",
       "      <th>4</th>\n",
       "      <td>12899783</td>\n",
       "      <td>[{'aid': 255297, 'ts': 1661724000572, 'type': ...</td>\n",
       "    </tr>\n",
       "  </tbody>\n",
       "</table>\n",
       "</div>"
      ],
      "text/plain": [
       "    session                                             events\n",
       "0  12899779  [{'aid': 59625, 'ts': 1661724000278, 'type': '...\n",
       "1  12899780  [{'aid': 1142000, 'ts': 1661724000378, 'type':...\n",
       "2  12899781  [{'aid': 141736, 'ts': 1661724000559, 'type': ...\n",
       "3  12899782  [{'aid': 1669402, 'ts': 1661724000568, 'type':...\n",
       "4  12899783  [{'aid': 255297, 'ts': 1661724000572, 'type': ..."
      ]
     },
     "execution_count": 16,
     "metadata": {},
     "output_type": "execute_result"
    }
   ],
   "source": [
    "sample_test_df.head()"
   ]
  },
  {
   "cell_type": "code",
   "execution_count": 22,
   "metadata": {},
   "outputs": [
    {
     "data": {
      "text/html": [
       "<div>\n",
       "<style scoped>\n",
       "    .dataframe tbody tr th:only-of-type {\n",
       "        vertical-align: middle;\n",
       "    }\n",
       "\n",
       "    .dataframe tbody tr th {\n",
       "        vertical-align: top;\n",
       "    }\n",
       "\n",
       "    .dataframe thead th {\n",
       "        text-align: right;\n",
       "    }\n",
       "</style>\n",
       "<table border=\"1\" class=\"dataframe\">\n",
       "  <thead>\n",
       "    <tr style=\"text-align: right;\">\n",
       "      <th></th>\n",
       "      <th>session_type</th>\n",
       "      <th>labels</th>\n",
       "    </tr>\n",
       "  </thead>\n",
       "  <tbody>\n",
       "    <tr>\n",
       "      <th>0</th>\n",
       "      <td>12899779_clicks</td>\n",
       "      <td>129004 126836 118524</td>\n",
       "    </tr>\n",
       "    <tr>\n",
       "      <th>1</th>\n",
       "      <td>12899779_carts</td>\n",
       "      <td>129004 126836 118524</td>\n",
       "    </tr>\n",
       "    <tr>\n",
       "      <th>2</th>\n",
       "      <td>12899779_orders</td>\n",
       "      <td>129004 126836 118524</td>\n",
       "    </tr>\n",
       "    <tr>\n",
       "      <th>3</th>\n",
       "      <td>12899780_clicks</td>\n",
       "      <td>129004 126836 118524</td>\n",
       "    </tr>\n",
       "    <tr>\n",
       "      <th>4</th>\n",
       "      <td>12899780_carts</td>\n",
       "      <td>129004 126836 118524</td>\n",
       "    </tr>\n",
       "  </tbody>\n",
       "</table>\n",
       "</div>"
      ],
      "text/plain": [
       "      session_type                labels\n",
       "0  12899779_clicks  129004 126836 118524\n",
       "1   12899779_carts  129004 126836 118524\n",
       "2  12899779_orders  129004 126836 118524\n",
       "3  12899780_clicks  129004 126836 118524\n",
       "4   12899780_carts  129004 126836 118524"
      ]
     },
     "execution_count": 22,
     "metadata": {},
     "output_type": "execute_result"
    }
   ],
   "source": [
    "sample_submission = pd.read_csv(SAMPLE_SUB_PATH)\n",
    "sample_submission.head()"
   ]
  },
  {
   "cell_type": "code",
   "execution_count": 23,
   "metadata": {},
   "outputs": [],
   "source": [
    "sample_size = 150000\n",
    "\n",
    "chunks = pd.read_json(TRAIN_PATH, lines=True, chunksize = sample_size)\n",
    "\n",
    "clicks_article_list = []\n",
    "carts_article_list = []\n",
    "orders_article_list = []\n",
    "\n",
    "for e, c in enumerate(chunks):\n",
    "    \n",
    "    # Save time by not using all the data\n",
    "    if e > 2:\n",
    "        break\n",
    "    \n",
    "    sample_train_df = c\n",
    "    \n",
    "    for i, row in c.iterrows():\n",
    "        actions = row['events']\n",
    "        for action in actions:\n",
    "            if action['type'] == 'clicks':\n",
    "                clicks_article_list.append(action['aid'])\n",
    "            elif action['type'] == 'carts':\n",
    "                carts_article_list.append(action['aid'])\n",
    "            else:\n",
    "                orders_article_list.append(action['aid'])"
   ]
  },
  {
   "cell_type": "code",
   "execution_count": 24,
   "metadata": {},
   "outputs": [],
   "source": [
    "article_click_freq = Counter(clicks_article_list)\n",
    "article_carts_freq = Counter(carts_article_list)\n",
    "article_order_freq = Counter(orders_article_list)"
   ]
  },
  {
   "cell_type": "code",
   "execution_count": 25,
   "metadata": {},
   "outputs": [],
   "source": [
    "top_click_article = nlargest(20, article_click_freq, key = article_click_freq.get)\n",
    "top_carts_article = nlargest(20, article_carts_freq, key = article_carts_freq.get)\n",
    "top_order_article = nlargest(20, article_order_freq, key = article_order_freq.get)"
   ]
  },
  {
   "cell_type": "code",
   "execution_count": 26,
   "metadata": {},
   "outputs": [],
   "source": [
    "frequent_articles = {'clicks': top_click_article, 'carts':top_carts_article, 'order':top_order_article}"
   ]
  },
  {
   "cell_type": "code",
   "execution_count": 27,
   "metadata": {},
   "outputs": [
    {
     "name": "stdout",
     "output_type": "stream",
     "text": [
      "Most frequent articles for clicks: [29735, 1733943, 108125, 1603001, 832192]\n",
      "Most frequent articles for carts: [80222, 29735, 1733943, 166037, 485256]\n",
      "Most frequent articles for order: [80222, 166037, 1022566, 351335, 1629608]\n"
     ]
    }
   ],
   "source": [
    "for action in ['clicks', 'carts', 'order']:\n",
    "    print(f'Most frequent articles for {action}: {frequent_articles[action][:5]}')"
   ]
  },
  {
   "cell_type": "code",
   "execution_count": 28,
   "metadata": {},
   "outputs": [
    {
     "data": {
      "application/vnd.jupyter.widget-view+json": {
       "model_id": "12103af7cbad499d9ff20f1e5b3d0f30",
       "version_major": 2,
       "version_minor": 0
      },
      "text/plain": [
       "  0%|          | 0/1671 [00:00<?, ?it/s]"
      ]
     },
     "metadata": {},
     "output_type": "display_data"
    }
   ],
   "source": [
    "test_data = pd.read_json(TEST_PATH, lines=True, chunksize=1000)\n",
    "\n",
    "preds = []\n",
    "\n",
    "for chunk in tqdm(test_data, total=1671):\n",
    "    \n",
    "    for i, row in chunk.iterrows():\n",
    "        actions = row['events']\n",
    "        article_id_list = []\n",
    "        for action in actions:\n",
    "            article_id_list.append(action['aid'])\n",
    "            \n",
    "        # Get 20 most common article ID for the session\n",
    "        article_freq = Counter(article_id_list)\n",
    "        top_articles = nlargest(20, article_freq, key = article_freq.get)\n",
    "        \n",
    "        # Pad with most popular items in training\n",
    "        padding_size = (20 - len(top_articles)) # \n",
    "        for action in ['clicks', 'carts', 'order']:\n",
    "            top_articles_added = top_articles + frequent_articles[action][:padding_size] # \n",
    "            preds.append(\" \".join([str(id) for id in top_articles_added]))"
   ]
  },
  {
   "cell_type": "code",
   "execution_count": 29,
   "metadata": {},
   "outputs": [],
   "source": [
    "sample_submission['labels'] = preds"
   ]
  },
  {
   "cell_type": "code",
   "execution_count": 30,
   "metadata": {},
   "outputs": [],
   "source": [
    "sample_submission.to_csv('submission.csv', index=False)"
   ]
  },
  {
   "cell_type": "code",
   "execution_count": null,
   "metadata": {},
   "outputs": [],
   "source": []
  }
 ],
 "metadata": {
  "kernelspec": {
   "display_name": "myproject",
   "language": "python",
   "name": "myproject"
  },
  "language_info": {
   "codemirror_mode": {
    "name": "ipython",
    "version": 3
   },
   "file_extension": ".py",
   "mimetype": "text/x-python",
   "name": "python",
   "nbconvert_exporter": "python",
   "pygments_lexer": "ipython3",
   "version": "3.10.7 (tags/v3.10.7:6cc6b13, Sep  5 2022, 14:08:36) [MSC v.1933 64 bit (AMD64)]"
  },
  "orig_nbformat": 4
 },
 "nbformat": 4,
 "nbformat_minor": 2
}
